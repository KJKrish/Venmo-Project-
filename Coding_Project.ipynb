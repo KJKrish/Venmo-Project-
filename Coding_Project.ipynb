{
  "nbformat": 4,
  "nbformat_minor": 0,
  "metadata": {
    "colab": {
      "name": "Coding Project ",
      "provenance": []
    },
    "kernelspec": {
      "name": "python3",
      "display_name": "Python 3"
    }
  },
  "cells": [
    {
      "cell_type": "code",
      "metadata": {
        "id": "_wPTo3m5LvsA",
        "colab": {
          "base_uri": "https://localhost:8080/",
          "height": 367
        },
        "outputId": "1e1c67a6-ec62-47c2-fff9-0267e274157a"
      },
      "source": [
        "\n",
        "print(\"Hi, you are currently on Nandin,s Bank Account from KJ Bank, and you are transfering to Krish,s Account.\")\n",
        "krishBalance, nandinBalance, kjBank = 1000,1000,0\n",
        "print(\"Currently Krish,s Bank Balance is:\", krishBalance)\n",
        "print(\"Currently your Balance(Nandin) is:\", nandinBalance)\n",
        "print(\"WHEN YOU ARE TRANSFERRING 1% TRANSACTION FEE WILL BE CUT AND BE GONE TO KJ BANK.\")\n",
        "takeOut = input(\"How much do you want to transfer to Krish,s Account :\")\n",
        "takeOut = int(takeOut)\n",
        "  takeOut = input(\"YOUR LAST TRANSFER WAS AN INVALID AMOUNT OF MONEY, PLEASE PUT A VALID AMOUNT\")\n",
        "krishBalance = krishBalance + (takeOut*0.99) #updating the balance so here \n",
        "nandinBalance = nandinBalance - takeOut\n",
        "kjBank = kjBank + (takeOut*0.01)\n",
        "print(\"After Transferring Krish,s Balance is:\", krishBalance)\n",
        "print(\"After Transferring Nandin,s Balance is: \", nandinBalance)\n",
        "print(\"KJ Banks Balance is now :\", kjBank)\n",
        "input(\"Did you like the Transferring of the KJ BANK : \")\n",
        "print(\"HERE IS YOUR RECIPT FOR THIS TRANSFER :\")\n",
        "print(\"Which Account are you transferring from : Nandin,s Account\")\n",
        "print(\"Who are you transferring to: Krish,s Account\")\n",
        "print(\"How much did you transfer:\", takeOut)\n",
        "print(\"How much did the KJ Bank get from this Transfer:\", (takeOut*0.01))\n",
        "print(\"Now your Balance is :\", nandinBalance)\n",
        "if nandinBalance< 0 :\n",
        "  print(\"YOUR BANK BALANCE IS CURRENTLY IN NEGATIVE.\")\n",
        "else :\n",
        "  print(\"GREAT JOB, YOUR BANK BALANCE IS IN POSITIVE NUMBERS\")\n",
        "print(\"THANK YOU FOR TRANSFERRING FROM THE KJ BANK\")\n",
        "\n"
      ],
      "execution_count": null,
      "outputs": [
        {
          "output_type": "stream",
          "text": [
            "Hi, you are currently on Nandin,s Bank Account from KJ Bank, and you are transfering to Krish,s Account.\n",
            "Currently Krish,s Bank Balance is: 1000\n",
            "Currently your Balance(Nandin) is: 1000\n",
            "WHEN YOU ARE TRANSFERRING 1% TRANSACTION FEE WILL BE CUT AND BE GONE TO KJ BANK.\n",
            "How much do you want to transfer to Krish,s Account :1001\n",
            "YOUR LAST TRANSFER WAS AN INVALID AMOUNT OF MONEY, PLEASE PUT A VALID AMOUNT100\n"
          ],
          "name": "stdout"
        },
        {
          "output_type": "error",
          "ename": "TypeError",
          "evalue": "ignored",
          "traceback": [
            "\u001b[0;31m---------------------------------------------------------------------------\u001b[0m",
            "\u001b[0;31mTypeError\u001b[0m                                 Traceback (most recent call last)",
            "\u001b[0;32m<ipython-input-8-c8f441cdcb4e>\u001b[0m in \u001b[0;36m<module>\u001b[0;34m()\u001b[0m\n\u001b[1;32m     12\u001b[0m   \u001b[0;34m(\u001b[0m\u001b[0;34m\"INVALID AMOUNT OF TRANSFER\"\u001b[0m\u001b[0;34m)\u001b[0m\u001b[0;34m\u001b[0m\u001b[0;34m\u001b[0m\u001b[0m\n\u001b[1;32m     13\u001b[0m   \u001b[0mtakeOut\u001b[0m \u001b[0;34m=\u001b[0m \u001b[0minput\u001b[0m\u001b[0;34m(\u001b[0m\u001b[0;34m\"YOUR LAST TRANSFER WAS AN INVALID AMOUNT OF MONEY, PLEASE PUT A VALID AMOUNT\"\u001b[0m\u001b[0;34m)\u001b[0m\u001b[0;34m\u001b[0m\u001b[0;34m\u001b[0m\u001b[0m\n\u001b[0;32m---> 14\u001b[0;31m \u001b[0mkrishBalance\u001b[0m \u001b[0;34m=\u001b[0m \u001b[0mkrishBalance\u001b[0m \u001b[0;34m+\u001b[0m \u001b[0;34m(\u001b[0m\u001b[0mtakeOut\u001b[0m\u001b[0;34m*\u001b[0m\u001b[0;36m0.99\u001b[0m\u001b[0;34m)\u001b[0m \u001b[0;31m#updating the balance so here\u001b[0m\u001b[0;34m\u001b[0m\u001b[0;34m\u001b[0m\u001b[0m\n\u001b[0m\u001b[1;32m     15\u001b[0m \u001b[0mnandinBalance\u001b[0m \u001b[0;34m=\u001b[0m \u001b[0mnandinBalance\u001b[0m \u001b[0;34m-\u001b[0m \u001b[0mtakeOut\u001b[0m\u001b[0;34m\u001b[0m\u001b[0;34m\u001b[0m\u001b[0m\n\u001b[1;32m     16\u001b[0m \u001b[0mkjBank\u001b[0m \u001b[0;34m=\u001b[0m \u001b[0mkjBank\u001b[0m \u001b[0;34m+\u001b[0m \u001b[0;34m(\u001b[0m\u001b[0mtakeOut\u001b[0m\u001b[0;34m*\u001b[0m\u001b[0;36m0.01\u001b[0m\u001b[0;34m)\u001b[0m\u001b[0;34m\u001b[0m\u001b[0;34m\u001b[0m\u001b[0m\n",
            "\u001b[0;31mTypeError\u001b[0m: can't multiply sequence by non-int of type 'float'"
          ]
        }
      ]
    },
    {
      "cell_type": "code",
      "metadata": {
        "colab": {
          "base_uri": "https://localhost:8080/",
          "height": 138
        },
        "id": "QXJk5SCMVVYX",
        "outputId": "870d3498-3824-4c6b-d89f-566ce2a59bd7"
      },
      "source": [
        "# CLASS THREE WORKINGGG?>>>>>>\n",
        "number = 50\n",
        "input ()\n",
        "if (input > number)\n",
        "  print(\"BIG NUMBER\")\n",
        "else: Print(\"SMALL NUMBER\") "
      ],
      "execution_count": null,
      "outputs": [
        {
          "output_type": "error",
          "ename": "SyntaxError",
          "evalue": "ignored",
          "traceback": [
            "\u001b[0;36m  File \u001b[0;32m\"<ipython-input-18-553979b7040c>\"\u001b[0;36m, line \u001b[0;32m4\u001b[0m\n\u001b[0;31m    if (input > number)\u001b[0m\n\u001b[0m                       ^\u001b[0m\n\u001b[0;31mSyntaxError\u001b[0m\u001b[0;31m:\u001b[0m invalid syntax\n"
          ]
        }
      ]
    },
    {
      "cell_type": "code",
      "metadata": {
        "id": "909KhztmXvd2"
      },
      "source": [
        "\n",
        "\n",
        "\n",
        "\n",
        "\n",
        "\n",
        "\n",
        "\n",
        "\n",
        "\n",
        "randomNumbers = 1,2,3,4,234,456,76,878,546,54\n",
        "for r"
      ],
      "execution_count": null,
      "outputs": []
    },
    {
      "cell_type": "code",
      "metadata": {
        "id": "pKgbp90YZqko"
      },
      "source": [
        "randomNumbers = [\"1,2,3,4,234,456,76,878],546,54\"]\n",
        "for randomNumbers \n"
      ],
      "execution_count": null,
      "outputs": []
    },
    {
      "cell_type": "code",
      "metadata": {
        "id": "Px7mHml0biKA"
      },
      "source": [
        "randomNumbers = [1,2,3,4,234,456,76,878,546,54]\n",
        "for\n"
      ],
      "execution_count": null,
      "outputs": []
    },
    {
      "cell_type": "code",
      "metadata": {
        "id": "T2qYckOMbebS"
      },
      "source": [
        ""
      ],
      "execution_count": null,
      "outputs": []
    },
    {
      "cell_type": "code",
      "metadata": {
        "colab": {
          "base_uri": "https://localhost:8080/"
        },
        "id": "-K-sUK41vm_t",
        "outputId": "487f4f47-3140-4965-a035-e8f37cfb3885"
      },
      "source": [
        "superHero=[\"batman\",\"spiderman\",\"captin America\",\"black panther\",\"Thor\"]\n",
        "for hero in superHero:\n",
        "  print(hero)"
      ],
      "execution_count": null,
      "outputs": [
        {
          "output_type": "stream",
          "text": [
            "batman\n",
            "spiderman\n",
            "captin America\n",
            "black panther\n",
            "Thor\n"
          ],
          "name": "stdout"
        }
      ]
    },
    {
      "cell_type": "code",
      "metadata": {
        "colab": {
          "base_uri": "https://localhost:8080/"
        },
        "id": "xXbhCyKl0hRo",
        "outputId": "3605ac06-565a-4a8d-f315-873942bd37b3"
      },
      "source": [
        "k = 0\n",
        "\n",
        "while k < 50:\n",
        "  \n",
        "  k = k + 5\n",
        "  print(k)"
      ],
      "execution_count": null,
      "outputs": [
        {
          "output_type": "stream",
          "text": [
            "5\n",
            "10\n",
            "15\n",
            "20\n",
            "25\n",
            "30\n",
            "35\n",
            "40\n",
            "45\n",
            "50\n"
          ],
          "name": "stdout"
        }
      ]
    },
    {
      "cell_type": "code",
      "metadata": {
        "colab": {
          "base_uri": "https://localhost:8080/"
        },
        "id": "8JX9VPv421MB",
        "outputId": "0581c68b-9269-45f4-eadf-8ab9ea468757"
      },
      "source": [
        "k = 0\n",
        "\n",
        "while k < 50:\n",
        "  k = k + 5\n",
        "  print (k)\n"
      ],
      "execution_count": null,
      "outputs": [
        {
          "output_type": "stream",
          "text": [
            "5\n",
            "10\n",
            "15\n",
            "20\n",
            "25\n",
            "30\n",
            "35\n",
            "40\n",
            "45\n",
            "50\n"
          ],
          "name": "stdout"
        }
      ]
    },
    {
      "cell_type": "code",
      "metadata": {
        "id": "RJDPkZc18ETU"
      },
      "source": [
        "k = 0\n",
        "\n",
        "while k < 50:\n",
        "  \n",
        "  k = k + 5"
      ],
      "execution_count": null,
      "outputs": []
    }
  ]
}
#HI, THIS IS KRISH,S BRANCH & 
